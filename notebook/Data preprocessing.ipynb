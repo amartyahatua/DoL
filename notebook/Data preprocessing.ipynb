{
 "cells": [
  {
   "cell_type": "code",
   "execution_count": 1,
   "id": "708a8eb7",
   "metadata": {},
   "outputs": [],
   "source": [
    "import pandas as pd"
   ]
  },
  {
   "cell_type": "code",
   "execution_count": 2,
   "id": "bdaa0849",
   "metadata": {},
   "outputs": [
    {
     "name": "stderr",
     "output_type": "stream",
     "text": [
      "C:\\Users\\Amartya Hatua\\AppData\\Local\\Temp\\ipykernel_19688\\2675593384.py:1: DtypeWarning: Columns (14,26,27,28,29,30,31,37,38,39,40,41,42,53,54,55,56,57,58,133,134) have mixed types. Specify dtype option on import or set low_memory=False.\n",
      "  df_main = pd.read_csv('../data/f_5500_2022_latest.csv')\n",
      "C:\\Users\\Amartya Hatua\\AppData\\Local\\Temp\\ipykernel_19688\\2675593384.py:2: DtypeWarning: Columns (8,21,87) have mixed types. Specify dtype option on import or set low_memory=False.\n",
      "  df_sch_A = pd.read_csv('../data/F_SCH_A_2022_latest.csv')\n"
     ]
    }
   ],
   "source": [
    "df_main = pd.read_csv('../data/f_5500_2022_latest.csv')\n",
    "df_sch_A = pd.read_csv('../data/F_SCH_A_2022_latest.csv')\n",
    "df_sch_C = pd.read_csv('../data/F_SCH_C_2022_latest.csv')\n",
    "df_sch_D = pd.read_csv('../data/F_SCH_D_2022_latest.csv')\n",
    "df_sch_H = pd.read_csv('../data/F_SCH_H_2022_latest.csv')\n",
    "df_sch_H_2 = pd.read_csv('../data/F_SCH_D_PART2_2022_latest.csv')"
   ]
  },
  {
   "cell_type": "code",
   "execution_count": 3,
   "id": "4953346b",
   "metadata": {
    "scrolled": true
   },
   "outputs": [],
   "source": [
    "df_main_sch_C = df_main.merge(df_sch_C.rename({'ACK_ID': 'ACK_ID_C'}, axis=1), left_on='ACK_ID', right_on='ACK_ID_C', how='left')"
   ]
  },
  {
   "cell_type": "code",
   "execution_count": 4,
   "id": "b8417fcd",
   "metadata": {},
   "outputs": [],
   "source": [
    "df_main_sch_C_D = df_main_sch_C.merge(df_sch_D.rename({'ACK_ID': 'ACK_ID_D'}, axis=1), left_on='ACK_ID', right_on='ACK_ID_D', how='left')"
   ]
  },
  {
   "cell_type": "code",
   "execution_count": 5,
   "id": "03288080",
   "metadata": {},
   "outputs": [],
   "source": [
    "df_main_sch_C_D_H = df_main_sch_C_D.merge(df_sch_H.rename({'ACK_ID': 'ACK_ID_H'}, axis=1), left_on='ACK_ID', right_on='ACK_ID_H', how='left')"
   ]
  },
  {
   "cell_type": "code",
   "execution_count": 6,
   "id": "9db3da83",
   "metadata": {},
   "outputs": [],
   "source": [
    "df_main_sch_C_D_H_H2 = df_main_sch_C_D_H.merge(df_sch_H_2.rename({'ACK_ID': 'ACK_ID_H2'}, axis=1), left_on='ACK_ID', right_on='ACK_ID_H2', how='left')"
   ]
  },
  {
   "cell_type": "code",
   "execution_count": 7,
   "id": "e969f904",
   "metadata": {},
   "outputs": [],
   "source": [
    "cols =[\"ACK_ID\", \"ACK_ID_C\", \"ACK_ID_D\", \"ACK_ID_H\", \"ACK_ID_H2\", \"NET_ASSETS_BOY_AMT\", \"NET_ASSETS_EOY_AMT\", \"SCH_H_EIN\", \"SCH_H_TAX_PRD\", \"DFE_P2_PLAN_NAME\", \"DFE_P2_PLAN_SPONS_NAME\"]"
   ]
  },
  {
   "cell_type": "code",
   "execution_count": 8,
   "id": "949845b4",
   "metadata": {},
   "outputs": [],
   "source": [
    "df = df_main_sch_C_D_H_H2[cols]"
   ]
  },
  {
   "cell_type": "code",
   "execution_count": 9,
   "id": "50631c61",
   "metadata": {},
   "outputs": [],
   "source": [
    "#df = df[df[\"NET_ASSETS_BOY_AMT\"]>100000000]"
   ]
  },
  {
   "cell_type": "code",
   "execution_count": 10,
   "id": "e8218309",
   "metadata": {},
   "outputs": [
    {
     "data": {
      "text/plain": [
       "(1344886, 11)"
      ]
     },
     "execution_count": 10,
     "metadata": {},
     "output_type": "execute_result"
    }
   ],
   "source": [
    "df.shape"
   ]
  },
  {
   "cell_type": "code",
   "execution_count": 11,
   "id": "e2f44f56",
   "metadata": {},
   "outputs": [
    {
     "data": {
      "text/plain": [
       "222468"
      ]
     },
     "execution_count": 11,
     "metadata": {},
     "output_type": "execute_result"
    }
   ],
   "source": [
    "len(df['ACK_ID'].unique())"
   ]
  },
  {
   "cell_type": "code",
   "execution_count": 12,
   "id": "38862bde",
   "metadata": {},
   "outputs": [],
   "source": [
    "df_sort = df.sort_values(by=\"NET_ASSETS_BOY_AMT\")"
   ]
  },
  {
   "cell_type": "code",
   "execution_count": 13,
   "id": "621fa569",
   "metadata": {},
   "outputs": [],
   "source": [
    "df_sort = df_sort.dropna(subset=[\"DFE_P2_PLAN_NAME\", \"DFE_P2_PLAN_SPONS_NAME\"])"
   ]
  },
  {
   "cell_type": "code",
   "execution_count": 14,
   "id": "eef0e29e",
   "metadata": {},
   "outputs": [],
   "source": [
    "df_sort.to_csv('data.csv', index=False)"
   ]
  },
  {
   "cell_type": "code",
   "execution_count": 15,
   "id": "24013aa3",
   "metadata": {},
   "outputs": [],
   "source": [
    "df_sort_unique = df_sort.drop_duplicates()"
   ]
  },
  {
   "cell_type": "code",
   "execution_count": 16,
   "id": "20b90333",
   "metadata": {},
   "outputs": [],
   "source": [
    "df_sort_unique.to_csv('data.csv', index=False)"
   ]
  },
  {
   "cell_type": "code",
   "execution_count": 17,
   "id": "514a3ca6",
   "metadata": {},
   "outputs": [
    {
     "data": {
      "text/plain": [
       "'C:\\\\Users\\\\Amartya Hatua\\\\PycharmProjects\\\\DoL\\\\DoL\\\\notebook'"
      ]
     },
     "execution_count": 17,
     "metadata": {},
     "output_type": "execute_result"
    }
   ],
   "source": [
    "pwd"
   ]
  },
  {
   "cell_type": "code",
   "execution_count": null,
   "id": "2241b432",
   "metadata": {},
   "outputs": [],
   "source": []
  }
 ],
 "metadata": {
  "kernelspec": {
   "display_name": "Python 3 (ipykernel)",
   "language": "python",
   "name": "python3"
  },
  "language_info": {
   "codemirror_mode": {
    "name": "ipython",
    "version": 3
   },
   "file_extension": ".py",
   "mimetype": "text/x-python",
   "name": "python",
   "nbconvert_exporter": "python",
   "pygments_lexer": "ipython3",
   "version": "3.11.5"
  }
 },
 "nbformat": 4,
 "nbformat_minor": 5
}
